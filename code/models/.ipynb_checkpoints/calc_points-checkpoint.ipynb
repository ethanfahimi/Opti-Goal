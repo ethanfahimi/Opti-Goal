{
 "cells": [
  {
   "cell_type": "markdown",
   "id": "c29c9d02-1dec-4b45-9ddb-fa2685a35650",
   "metadata": {},
   "source": [
    "# Load Packages and Data"
   ]
  },
  {
   "cell_type": "code",
   "execution_count": 5,
   "id": "c30878dd-5de7-46f6-a922-b9ec4921a58f",
   "metadata": {},
   "outputs": [],
   "source": [
    "using CSV, DataFrames, JuMP, Gurobi;"
   ]
  },
  {
   "cell_type": "code",
   "execution_count": 98,
   "id": "708f463a-ed01-4e52-aa29-05a3eaf712ce",
   "metadata": {},
   "outputs": [
    {
     "data": {
      "text/plain": [
       "\"../../data/processed/actual_points\""
      ]
     },
     "execution_count": 98,
     "metadata": {},
     "output_type": "execute_result"
    }
   ],
   "source": [
    "# set file paths in case we move this file or the data later\n",
    "points_path = \"../../data/final/single_solution\"\n",
    "solution_path =\"../../data/processed/actual_points\""
   ]
  },
  {
   "cell_type": "markdown",
   "id": "433d0c9d-5d05-4153-867f-a8fef763f5ed",
   "metadata": {},
   "source": [
    "## Join selected team with actual points"
   ]
  },
  {
   "cell_type": "code",
   "execution_count": 99,
   "id": "dfdb2cac-fba2-4b08-9540-f6ea06f3c723",
   "metadata": {},
   "outputs": [
    {
     "data": {
      "text/plain": [
       "join_by_week (generic function with 1 method)"
      ]
     },
     "execution_count": 99,
     "metadata": {},
     "output_type": "execute_result"
    }
   ],
   "source": [
    "function join_by_week(week)\n",
    "df1 = CSV.read(\"$points_path/week_$week.csv\", DataFrame) # read in the csv for points scored each week\n",
    "df2 = CSV.read(\"$solution_path/gw$week.csv\", DataFrame) # read in the csv for the team we selected\n",
    "rename!(df2, \"Name\" => \"Player\") # rename column to help with join\n",
    "result_df = leftjoin(df1, df2[:, [:Player, :Price, :TP]], on = :Player) # join on player\n",
    "    return result_df\n",
    "end"
   ]
  },
  {
   "cell_type": "code",
   "execution_count": 97,
   "id": "ade002db-63d2-4fec-b6ed-5e1b2ac74a14",
   "metadata": {},
   "outputs": [
    {
     "data": {
      "text/html": [
       "<div><div style = \"float: left;\"><span>15×11 DataFrame</span></div><div style = \"clear: both;\"></div></div><div class = \"data-frame\" style = \"overflow-x: scroll;\"><table class = \"data-frame\" style = \"margin-bottom: 6px;\"><thead><tr class = \"header\"><th class = \"rowNumber\" style = \"font-weight: bold; text-align: right;\">Row</th><th style = \"text-align: left;\">Player</th><th style = \"text-align: left;\">Squad</th><th style = \"text-align: left;\">Team</th><th style = \"text-align: left;\">Captain</th><th style = \"text-align: left;\">TripCaptain</th><th style = \"text-align: left;\">BB</th><th style = \"text-align: left;\">WC</th><th style = \"text-align: left;\">FH</th><th style = \"text-align: left;\">TTr</th><th style = \"text-align: left;\">Price</th><th style = \"text-align: left;\">TP</th></tr><tr class = \"subheader headerLastRow\"><th class = \"rowNumber\" style = \"font-weight: bold; text-align: right;\"></th><th title = \"String15\" style = \"text-align: left;\">String15</th><th title = \"Float64\" style = \"text-align: left;\">Float64</th><th title = \"Float64\" style = \"text-align: left;\">Float64</th><th title = \"Float64\" style = \"text-align: left;\">Float64</th><th title = \"Int64\" style = \"text-align: left;\">Int64</th><th title = \"Float64\" style = \"text-align: left;\">Float64</th><th title = \"Float64\" style = \"text-align: left;\">Float64</th><th title = \"Float64\" style = \"text-align: left;\">Float64</th><th title = \"Float64\" style = \"text-align: left;\">Float64</th><th title = \"Union{Missing, Float64}\" style = \"text-align: left;\">Float64?</th><th title = \"Union{Missing, Int64}\" style = \"text-align: left;\">Int64?</th></tr></thead><tbody><tr><td class = \"rowNumber\" style = \"font-weight: bold; text-align: right;\">1</td><td style = \"text-align: left;\">Saka</td><td style = \"text-align: right;\">1.0</td><td style = \"text-align: right;\">1.0</td><td style = \"text-align: right;\">0.0</td><td style = \"text-align: right;\">0</td><td style = \"text-align: right;\">0.0</td><td style = \"text-align: right;\">0.0</td><td style = \"text-align: right;\">0.0</td><td style = \"text-align: right;\">0.0</td><td style = \"text-align: right;\">8.5</td><td style = \"text-align: right;\">3</td></tr><tr><td class = \"rowNumber\" style = \"font-weight: bold; text-align: right;\">2</td><td style = \"text-align: left;\">Turner</td><td style = \"text-align: right;\">1.0</td><td style = \"text-align: right;\">0.0</td><td style = \"text-align: right;\">0.0</td><td style = \"text-align: right;\">0</td><td style = \"text-align: right;\">0.0</td><td style = \"text-align: right;\">0.0</td><td style = \"text-align: right;\">0.0</td><td style = \"text-align: right;\">0.0</td><td style = \"text-align: right;\">4.0</td><td style = \"text-align: right;\">2</td></tr><tr><td class = \"rowNumber\" style = \"font-weight: bold; text-align: right;\">3</td><td style = \"text-align: left;\">Cash</td><td style = \"text-align: right;\">1.0</td><td style = \"text-align: right;\">1.0</td><td style = \"text-align: right;\">0.0</td><td style = \"text-align: right;\">0</td><td style = \"text-align: right;\">0.0</td><td style = \"text-align: right;\">0.0</td><td style = \"text-align: right;\">0.0</td><td style = \"text-align: right;\">0.0</td><td style = \"text-align: right;\">4.5</td><td style = \"text-align: right;\">6</td></tr><tr><td class = \"rowNumber\" style = \"font-weight: bold; text-align: right;\">4</td><td style = \"text-align: left;\">Martinez</td><td style = \"text-align: right;\">1.0</td><td style = \"text-align: right;\">1.0</td><td style = \"text-align: right;\">0.0</td><td style = \"text-align: right;\">0</td><td style = \"text-align: right;\">0.0</td><td style = \"text-align: right;\">0.0</td><td style = \"text-align: right;\">0.0</td><td style = \"text-align: right;\">0.0</td><td style = \"text-align: right;\">5.0</td><td style = \"text-align: right;\">8</td></tr><tr><td class = \"rowNumber\" style = \"font-weight: bold; text-align: right;\">5</td><td style = \"text-align: left;\">Mbeumo</td><td style = \"text-align: right;\">1.0</td><td style = \"text-align: right;\">1.0</td><td style = \"text-align: right;\">0.0</td><td style = \"text-align: right;\">0</td><td style = \"text-align: right;\">0.0</td><td style = \"text-align: right;\">0.0</td><td style = \"text-align: right;\">0.0</td><td style = \"text-align: right;\">0.0</td><td style = \"text-align: right;\">7.0</td><td style = \"text-align: right;\">16</td></tr><tr><td class = \"rowNumber\" style = \"font-weight: bold; text-align: right;\">6</td><td style = \"text-align: left;\">Enzo</td><td style = \"text-align: right;\">1.0</td><td style = \"text-align: right;\">1.0</td><td style = \"text-align: right;\">0.0</td><td style = \"text-align: right;\">0</td><td style = \"text-align: right;\">0.0</td><td style = \"text-align: right;\">0.0</td><td style = \"text-align: right;\">0.0</td><td style = \"text-align: right;\">0.0</td><td style = \"text-align: right;\">5.0</td><td style = \"text-align: right;\">0</td></tr><tr><td class = \"rowNumber\" style = \"font-weight: bold; text-align: right;\">7</td><td style = \"text-align: left;\">N.Jackson</td><td style = \"text-align: right;\">1.0</td><td style = \"text-align: right;\">1.0</td><td style = \"text-align: right;\">0.0</td><td style = \"text-align: right;\">0</td><td style = \"text-align: right;\">0.0</td><td style = \"text-align: right;\">0.0</td><td style = \"text-align: right;\">0.0</td><td style = \"text-align: right;\">0.0</td><td style = \"text-align: right;\">7.0</td><td style = \"text-align: right;\">1</td></tr><tr><td class = \"rowNumber\" style = \"font-weight: bold; text-align: right;\">8</td><td style = \"text-align: left;\">Salah</td><td style = \"text-align: right;\">1.0</td><td style = \"text-align: right;\">1.0</td><td style = \"text-align: right;\">1.0</td><td style = \"text-align: right;\">0</td><td style = \"text-align: right;\">0.0</td><td style = \"text-align: right;\">0.0</td><td style = \"text-align: right;\">0.0</td><td style = \"text-align: right;\">0.0</td><td style = \"text-align: right;\">12.5</td><td style = \"text-align: right;\">5</td></tr><tr><td class = \"rowNumber\" style = \"font-weight: bold; text-align: right;\">9</td><td style = \"text-align: left;\">Andersen</td><td style = \"text-align: right;\">1.0</td><td style = \"text-align: right;\">0.0</td><td style = \"text-align: right;\">0.0</td><td style = \"text-align: right;\">0</td><td style = \"text-align: right;\">0.0</td><td style = \"text-align: right;\">0.0</td><td style = \"text-align: right;\">0.0</td><td style = \"text-align: right;\">0.0</td><td style = \"text-align: right;\">4.0</td><td style = \"font-style: italic; text-align: right;\">missing</td></tr><tr><td class = \"rowNumber\" style = \"font-weight: bold; text-align: right;\">10</td><td style = \"text-align: left;\">Bell</td><td style = \"text-align: right;\">1.0</td><td style = \"text-align: right;\">0.0</td><td style = \"text-align: right;\">0.0</td><td style = \"text-align: right;\">0</td><td style = \"text-align: right;\">0.0</td><td style = \"text-align: right;\">0.0</td><td style = \"text-align: right;\">0.0</td><td style = \"text-align: right;\">0.0</td><td style = \"text-align: right;\">4.0</td><td style = \"font-style: italic; text-align: right;\">missing</td></tr><tr><td class = \"rowNumber\" style = \"font-weight: bold; text-align: right;\">11</td><td style = \"text-align: left;\">Haaland</td><td style = \"text-align: right;\">1.0</td><td style = \"text-align: right;\">1.0</td><td style = \"text-align: right;\">0.0</td><td style = \"text-align: right;\">0</td><td style = \"text-align: right;\">0.0</td><td style = \"text-align: right;\">0.0</td><td style = \"text-align: right;\">0.0</td><td style = \"text-align: right;\">0.0</td><td style = \"text-align: right;\">14.0</td><td style = \"text-align: right;\">2</td></tr><tr><td class = \"rowNumber\" style = \"font-weight: bold; text-align: right;\">12</td><td style = \"text-align: left;\">B.Fernandes</td><td style = \"text-align: right;\">1.0</td><td style = \"text-align: right;\">1.0</td><td style = \"text-align: right;\">0.0</td><td style = \"text-align: right;\">0</td><td style = \"text-align: right;\">0.0</td><td style = \"text-align: right;\">0.0</td><td style = \"text-align: right;\">0.0</td><td style = \"text-align: right;\">0.0</td><td style = \"text-align: right;\">8.5</td><td style = \"text-align: right;\">1</td></tr><tr><td class = \"rowNumber\" style = \"font-weight: bold; text-align: right;\">13</td><td style = \"text-align: left;\">Trippier</td><td style = \"text-align: right;\">1.0</td><td style = \"text-align: right;\">1.0</td><td style = \"text-align: right;\">0.0</td><td style = \"text-align: right;\">0</td><td style = \"text-align: right;\">0.0</td><td style = \"text-align: right;\">0.0</td><td style = \"text-align: right;\">0.0</td><td style = \"text-align: right;\">0.0</td><td style = \"text-align: right;\">6.5</td><td style = \"text-align: right;\">2</td></tr><tr><td class = \"rowNumber\" style = \"font-weight: bold; text-align: right;\">14</td><td style = \"text-align: left;\">Osula</td><td style = \"text-align: right;\">1.0</td><td style = \"text-align: right;\">0.0</td><td style = \"text-align: right;\">0.0</td><td style = \"text-align: right;\">0</td><td style = \"text-align: right;\">0.0</td><td style = \"text-align: right;\">0.0</td><td style = \"text-align: right;\">0.0</td><td style = \"text-align: right;\">0.0</td><td style = \"text-align: right;\">4.5</td><td style = \"text-align: right;\">2</td></tr><tr><td class = \"rowNumber\" style = \"font-weight: bold; text-align: right;\">15</td><td style = \"text-align: left;\">Disasi</td><td style = \"text-align: right;\">1.0</td><td style = \"text-align: right;\">1.0</td><td style = \"text-align: right;\">0.0</td><td style = \"text-align: right;\">0</td><td style = \"text-align: right;\">0.0</td><td style = \"text-align: right;\">0.0</td><td style = \"text-align: right;\">0.0</td><td style = \"text-align: right;\">0.0</td><td style = \"text-align: right;\">5.0</td><td style = \"text-align: right;\">0</td></tr></tbody></table></div>"
      ],
      "text/latex": [
       "\\begin{tabular}{r|ccccccccc}\n",
       "\t& Player & Squad & Team & Captain & TripCaptain & BB & WC & FH & \\\\\n",
       "\t\\hline\n",
       "\t& String15 & Float64 & Float64 & Float64 & Int64 & Float64 & Float64 & Float64 & \\\\\n",
       "\t\\hline\n",
       "\t1 & Saka & 1.0 & 1.0 & 0.0 & 0 & 0.0 & 0.0 & 0.0 & $\\dots$ \\\\\n",
       "\t2 & Turner & 1.0 & 0.0 & 0.0 & 0 & 0.0 & 0.0 & 0.0 & $\\dots$ \\\\\n",
       "\t3 & Cash & 1.0 & 1.0 & 0.0 & 0 & 0.0 & 0.0 & 0.0 & $\\dots$ \\\\\n",
       "\t4 & Martinez & 1.0 & 1.0 & 0.0 & 0 & 0.0 & 0.0 & 0.0 & $\\dots$ \\\\\n",
       "\t5 & Mbeumo & 1.0 & 1.0 & 0.0 & 0 & 0.0 & 0.0 & 0.0 & $\\dots$ \\\\\n",
       "\t6 & Enzo & 1.0 & 1.0 & 0.0 & 0 & 0.0 & 0.0 & 0.0 & $\\dots$ \\\\\n",
       "\t7 & N.Jackson & 1.0 & 1.0 & 0.0 & 0 & 0.0 & 0.0 & 0.0 & $\\dots$ \\\\\n",
       "\t8 & Salah & 1.0 & 1.0 & 1.0 & 0 & 0.0 & 0.0 & 0.0 & $\\dots$ \\\\\n",
       "\t9 & Andersen & 1.0 & 0.0 & 0.0 & 0 & 0.0 & 0.0 & 0.0 & $\\dots$ \\\\\n",
       "\t10 & Bell & 1.0 & 0.0 & 0.0 & 0 & 0.0 & 0.0 & 0.0 & $\\dots$ \\\\\n",
       "\t11 & Haaland & 1.0 & 1.0 & 0.0 & 0 & 0.0 & 0.0 & 0.0 & $\\dots$ \\\\\n",
       "\t12 & B.Fernandes & 1.0 & 1.0 & 0.0 & 0 & 0.0 & 0.0 & 0.0 & $\\dots$ \\\\\n",
       "\t13 & Trippier & 1.0 & 1.0 & 0.0 & 0 & 0.0 & 0.0 & 0.0 & $\\dots$ \\\\\n",
       "\t14 & Osula & 1.0 & 0.0 & 0.0 & 0 & 0.0 & 0.0 & 0.0 & $\\dots$ \\\\\n",
       "\t15 & Disasi & 1.0 & 1.0 & 0.0 & 0 & 0.0 & 0.0 & 0.0 & $\\dots$ \\\\\n",
       "\\end{tabular}\n"
      ],
      "text/plain": [
       "\u001b[1m15×11 DataFrame\u001b[0m\n",
       "\u001b[1m Row \u001b[0m│\u001b[1m Player      \u001b[0m\u001b[1m Squad   \u001b[0m\u001b[1m Team    \u001b[0m\u001b[1m Captain \u001b[0m\u001b[1m TripCaptain \u001b[0m\u001b[1m BB      \u001b[0m\u001b[1m WC      \u001b[0m\u001b[1m \u001b[0m ⋯\n",
       "     │\u001b[90m String15    \u001b[0m\u001b[90m Float64 \u001b[0m\u001b[90m Float64 \u001b[0m\u001b[90m Float64 \u001b[0m\u001b[90m Int64       \u001b[0m\u001b[90m Float64 \u001b[0m\u001b[90m Float64 \u001b[0m\u001b[90m \u001b[0m ⋯\n",
       "─────┼──────────────────────────────────────────────────────────────────────────\n",
       "   1 │ Saka             1.0      1.0      0.0            0      0.0      0.0   ⋯\n",
       "   2 │ Turner           1.0      0.0      0.0            0      0.0      0.0\n",
       "   3 │ Cash             1.0      1.0      0.0            0      0.0      0.0\n",
       "   4 │ Martinez         1.0      1.0      0.0            0      0.0      0.0\n",
       "   5 │ Mbeumo           1.0      1.0      0.0            0      0.0      0.0   ⋯\n",
       "   6 │ Enzo             1.0      1.0      0.0            0      0.0      0.0\n",
       "   7 │ N.Jackson        1.0      1.0      0.0            0      0.0      0.0\n",
       "   8 │ Salah            1.0      1.0      1.0            0      0.0      0.0\n",
       "   9 │ Andersen         1.0      0.0      0.0            0      0.0      0.0   ⋯\n",
       "  10 │ Bell             1.0      0.0      0.0            0      0.0      0.0\n",
       "  11 │ Haaland          1.0      1.0      0.0            0      0.0      0.0\n",
       "  12 │ B.Fernandes      1.0      1.0      0.0            0      0.0      0.0\n",
       "  13 │ Trippier         1.0      1.0      0.0            0      0.0      0.0   ⋯\n",
       "  14 │ Osula            1.0      0.0      0.0            0      0.0      0.0\n",
       "  15 │ Disasi           1.0      1.0      0.0            0      0.0      0.0\n",
       "\u001b[36m                                                               4 columns omitted\u001b[0m"
      ]
     },
     "execution_count": 97,
     "metadata": {},
     "output_type": "execute_result"
    }
   ],
   "source": [
    "join_by_week(2)"
   ]
  },
  {
   "cell_type": "markdown",
   "id": "733dbf54-ff08-4e10-b725-76bdd91c1119",
   "metadata": {},
   "source": [
    "## Calculate points added by each player for a given week"
   ]
  },
  {
   "cell_type": "code",
   "execution_count": 100,
   "id": "135ae82f-8f90-4b15-a81f-1b7325242855",
   "metadata": {},
   "outputs": [
    {
     "data": {
      "text/plain": [
       "calc_points (generic function with 1 method)"
      ]
     },
     "execution_count": 100,
     "metadata": {},
     "output_type": "execute_result"
    }
   ],
   "source": [
    "function calc_points(week)\n",
    "    # get the joined df for that week\n",
    "    df = join_by_week(week) \n",
    "    # get total points added for that week if selected\n",
    "    df[!, :PointsAdded] = Float64.(ifelse.(df.Team .+ df.BB .>= 1, (1 .+ df.Captain .+ df.TripCaptain) .* df.TP, 0)) \n",
    "    # get the sum of these points\n",
    "    tot_pts = sum(df[!, :PointsAdded])\n",
    "    return tot_pts\n",
    "end"
   ]
  },
  {
   "cell_type": "markdown",
   "id": "287ea627-c26d-46f8-8fa9-1c00b98e86a3",
   "metadata": {},
   "source": [
    "## Calculate points over a given range of weeks"
   ]
  },
  {
   "cell_type": "code",
   "execution_count": 101,
   "id": "fa6a5400-effd-454a-ab26-862f51cc4cbe",
   "metadata": {},
   "outputs": [
    {
     "data": {
      "text/plain": [
       "points_over_range (generic function with 1 method)"
      ]
     },
     "execution_count": 101,
     "metadata": {},
     "output_type": "execute_result"
    }
   ],
   "source": [
    "function points_over_range(starting_week, ending_week)\n",
    "    tot_pts = 0\n",
    "    for week in starting_week:ending_week # sum for range of weeks\n",
    "        tot_pts += calc_points(week)\n",
    "    end\n",
    "    return tot_pts\n",
    "end"
   ]
  },
  {
   "cell_type": "code",
   "execution_count": 95,
   "id": "f864282f-a5a4-4974-9212-6fbf35d3a5b1",
   "metadata": {},
   "outputs": [
    {
     "data": {
      "text/plain": [
       "600.5"
      ]
     },
     "execution_count": 95,
     "metadata": {},
     "output_type": "execute_result"
    }
   ],
   "source": [
    "points_over_range(1,9)"
   ]
  },
  {
   "cell_type": "markdown",
   "id": "383b2a08-48e4-4418-b2d4-dfe34f326294",
   "metadata": {},
   "source": [
    "## Calculate cost by each player for a given week"
   ]
  },
  {
   "cell_type": "code",
   "execution_count": 103,
   "id": "1d9cdb28-fd13-40a6-b537-d322c90f4fbf",
   "metadata": {},
   "outputs": [
    {
     "data": {
      "text/plain": [
       "calc_cost (generic function with 1 method)"
      ]
     },
     "execution_count": 103,
     "metadata": {},
     "output_type": "execute_result"
    }
   ],
   "source": [
    "function calc_cost(week)\n",
    "    # get the joined df for that week\n",
    "    df = join_by_week(week) \n",
    "    # get total cost added for that week if selected\n",
    "    tot_cost = sum(df[!, :Price])\n",
    "    return tot_cost\n",
    "end"
   ]
  },
  {
   "cell_type": "markdown",
   "id": "149c147d-5419-4a70-a40e-7a609d24cd6b",
   "metadata": {},
   "source": [
    "## Calculate points over a given range of weeks"
   ]
  },
  {
   "cell_type": "code",
   "execution_count": 104,
   "id": "ac66e2df-0180-49a3-97c6-67a097c17cd0",
   "metadata": {},
   "outputs": [
    {
     "data": {
      "text/plain": [
       "cost_over_range (generic function with 1 method)"
      ]
     },
     "execution_count": 104,
     "metadata": {},
     "output_type": "execute_result"
    }
   ],
   "source": [
    "function cost_over_range(starting_week, ending_week)\n",
    "    tot_cost = 0\n",
    "    for week in starting_week:ending_week # sum for range of weeks\n",
    "        tot_cost += calc_cost(week)\n",
    "    end\n",
    "    return tot_cost\n",
    "end"
   ]
  },
  {
   "cell_type": "code",
   "execution_count": 114,
   "id": "e3bdb020-90da-4d2c-9b95-df8aa930334c",
   "metadata": {},
   "outputs": [
    {
     "data": {
      "text/plain": [
       "896.5"
      ]
     },
     "execution_count": 114,
     "metadata": {},
     "output_type": "execute_result"
    }
   ],
   "source": [
    "cost_over_range(1,9)"
   ]
  },
  {
   "cell_type": "code",
   "execution_count": null,
   "id": "3a6e3a2d-10b6-4090-ac23-9b778e9c9148",
   "metadata": {},
   "outputs": [],
   "source": []
  }
 ],
 "metadata": {
  "kernelspec": {
   "display_name": "Julia 1.9.2",
   "language": "julia",
   "name": "julia-1.9"
  },
  "language_info": {
   "file_extension": ".jl",
   "mimetype": "application/julia",
   "name": "julia",
   "version": "1.9.2"
  }
 },
 "nbformat": 4,
 "nbformat_minor": 5
}
