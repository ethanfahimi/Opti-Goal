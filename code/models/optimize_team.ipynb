{
 "cells": [
  {
   "cell_type": "markdown",
   "id": "c29c9d02-1dec-4b45-9ddb-fa2685a35650",
   "metadata": {},
   "source": [
    "# Load Packages and Data"
   ]
  },
  {
   "cell_type": "code",
   "execution_count": 1,
   "id": "c30878dd-5de7-46f6-a922-b9ec4921a58f",
   "metadata": {},
   "outputs": [
    {
     "name": "stderr",
     "output_type": "stream",
     "text": [
      "\u001b[36m\u001b[1m[ \u001b[22m\u001b[39m\u001b[36m\u001b[1mInfo: \u001b[22m\u001b[39mPrecompiling JuMP [4076af6c-e467-56ae-b986-b466b2749572]\n",
      "\u001b[36m\u001b[1m[ \u001b[22m\u001b[39m\u001b[36m\u001b[1mInfo: \u001b[22m\u001b[39mPrecompiling Gurobi [2e9cd046-0924-5485-92f1-d5272153d98b]\n"
     ]
    }
   ],
   "source": [
    "using CSV, DataFrames, JuMP, Gurobi;"
   ]
  },
  {
   "cell_type": "code",
   "execution_count": 2,
   "id": "fa1d5ef6-48f9-4a6a-bbd3-246bfd4e0bf0",
   "metadata": {},
   "outputs": [],
   "source": [
    "# load data sets\n",
    "team = CSV.read(\"../../data/processed/team.csv\", DataFrame)\n",
    "pos = CSV.read(\"../../data/processed/position.csv\", DataFrame)\n",
    "price = CSV.read(\"../../data/processed/price.csv\", DataFrame)\n",
    "points = CSV.read(\"../../data/processed/points.csv\", DataFrame);"
   ]
  },
  {
   "cell_type": "markdown",
   "id": "e68e778a-b8e6-436a-ae00-b86db8689209",
   "metadata": {},
   "source": [
    "# Define Model Inputs"
   ]
  },
  {
   "cell_type": "code",
   "execution_count": 3,
   "id": "d2bbebb0-79b2-4aba-a34c-fdea4bc6fb7c",
   "metadata": {},
   "outputs": [],
   "source": [
    "# define model parameters\n",
    "players = 1:nrow(points)\n",
    "\n",
    "# player positions\n",
    "GK = pos.PosGK\n",
    "DEF = pos.PosDEF\n",
    "MID = pos.PosMID\n",
    "FWD = pos.PosFWD\n",
    "\n",
    "# teams\n",
    "ARS = team.TeamARS\n",
    "CHE = team.TeamCHE\n",
    "LIV = team.TeamLIV\n",
    "MCI = team.TeamMCI\n",
    "MUN = team.TeamMUN\n",
    "TOT = team.TeamTOT\n",
    "\n",
    "# price\n",
    "P = price.Price\n",
    "\n",
    "# expected points\n",
    "XP = points[:, 2:end];"
   ]
  },
  {
   "cell_type": "markdown",
   "id": "69daf939-26be-43b8-aa6b-a6c278d70d99",
   "metadata": {},
   "source": [
    "# Build Model"
   ]
  },
  {
   "cell_type": "code",
   "execution_count": 7,
   "id": "0b01045c-f960-4be2-8b52-f727e688cc2c",
   "metadata": {},
   "outputs": [],
   "source": [
    "function solve_fantasy_football_model(weeks, transfer_weeks, triple_captains_remaining, bench_boost_remaining, wildcard_remaining, freehit_remaining)\n",
    "\n",
    "    # initialize model\n",
    "    model = Model(Gurobi.Optimizer);\n",
    "    \n",
    "    # players in squad\n",
    "    @variable(model, S[players, weeks], Bin)\n",
    "    \n",
    "    # players in team\n",
    "    @variable(model, X[players, weeks], Bin)\n",
    "    \n",
    "    # captain and triple captain\n",
    "    @variable(model, C[players, weeks], Bin)\n",
    "    @variable(model, TC[players, weeks], Bin)\n",
    "    \n",
    "    # bench boost\n",
    "    @variable(model, BB[weeks], Bin)\n",
    "    \n",
    "    # transfer tracker\n",
    "    @variable(model, Tr[players, weeks] >= 0, Bin)\n",
    "    @variable(model, TTr[weeks] >= 0, Int)\n",
    "    \n",
    "    # carry forward transfers\n",
    "    @variable(model, CarryForwardTransfers[weeks] >= 0, Int)\n",
    "    \n",
    "    # wildcard\n",
    "    @variable(model, WC[weeks], Bin)\n",
    "    \n",
    "    # free hit\n",
    "    @variable(model, FH[weeks], Bin)\n",
    "    \n",
    "    # objective function\n",
    "    @objective(\n",
    "        model, \n",
    "        Max, \n",
    "        sum(sum(X[i, j] * XP[i, j] for i in players) for j in weeks)\n",
    "        +\n",
    "        sum(sum(C[i, j] * XP[i, j] for i in players) for j in weeks)\n",
    "        +\n",
    "        sum(sum(TC[i, j] * XP[i, j] for i in players) for j in weeks)\n",
    "        +\n",
    "        sum(sum((S[i, j] - X[i, j]) * BB[j] * XP[i, j] for i in players) for j in weeks) \n",
    "        -\n",
    "        4 * sum(TTr[j] * (1 - WC[j] - FH[j]) for j in transfer_weeks)\n",
    "    )\n",
    "    \n",
    "    # salary cap\n",
    "    @constraint(model, [j in weeks], sum(P[i] * S[i, j] for i in players) <= 100)\n",
    "    \n",
    "    # number of players in squad\n",
    "    @constraint(model, [j in weeks], sum(GK[i] * S[i, j] for i in players) == 2)\n",
    "    @constraint(model, [j in weeks], sum(DEF[i] * S[i, j] for i in players) == 5)\n",
    "    @constraint(model, [j in weeks], sum(MID[i] * S[i, j] for i in players) == 5)\n",
    "    @constraint(model, [j in weeks], sum(FWD[i] * S[i, j] for i in players) == 3)\n",
    "    \n",
    "    # number of players in team\n",
    "    @constraint(model, [j in weeks], sum(X[i, j] for i in players) == 11)\n",
    "    @constraint(model, [j in weeks], sum(GK[i] * X[i, j] for i in players) == 1)\n",
    "    @constraint(model, [j in weeks], sum(DEF[i] * X[i, j] for i in players) >= 3)\n",
    "    @constraint(model, [j in weeks], sum(MID[i] * X[i, j] for i in players) >= 2)\n",
    "    @constraint(model, [j in weeks], sum(FWD[i] * X[i, j] for i in players) >= 1)\n",
    "    \n",
    "    # players in team must be in squad\n",
    "    @constraint(model, [j in weeks, i in players], X[i, j] <= S[i, j])\n",
    "    \n",
    "    # number of players from each team\n",
    "    @constraint(model, [j in weeks], sum(ARS[i] * S[i, j] for i in players) <= 3)\n",
    "    @constraint(model, [j in weeks], sum(CHE[i] * S[i, j] for i in players) <= 3)\n",
    "    @constraint(model, [j in weeks], sum(LIV[i] * S[i, j] for i in players) <= 3)\n",
    "    @constraint(model, [j in weeks], sum(MCI[i] * S[i, j] for i in players) <= 3)\n",
    "    @constraint(model, [j in weeks], sum(MUN[i] * S[i, j] for i in players) <= 3)\n",
    "    @constraint(model, [j in weeks], sum(TOT[i] * S[i, j] for i in players) <= 3)\n",
    "    \n",
    "    # one captain per week\n",
    "    @constraint(model, [j in weeks], sum(C[i, j] for i in players) == 1)\n",
    "    @constraint(model, [j in weeks, i in players], C[i, j] <= X[i, j])\n",
    "    \n",
    "    # one triple captain in season\n",
    "    @constraint(model, sum(sum(TC[i, j] for i in players) for j in weeks) == triple_captains_remaining)\n",
    "    @constraint(model, [j in weeks, i in players], TC[i, j] <= C[i, j])\n",
    "    \n",
    "    # one bench boost in season\n",
    "    @constraint(model, sum(BB[j] for j in weeks) == bench_boost_remaining)\n",
    "    \n",
    "    # track transfers\n",
    "    @constraint(model, [j in transfer_weeks, i in players], Tr[i, j] >= S[i, j] - S[i, j-1])\n",
    "    @constraint(model, [j in transfer_weeks], TTr[j] == sum(Tr[i, j] for i in players) - 1 - CarryForwardTransfers[j])\n",
    "    \n",
    "    # carry forward transfers\n",
    "    @constraint(model, CarryForwardTransfers[1] == 0)\n",
    "    @constraint(model, [j in 2:maximum(weeks)], CarryForwardTransfers[j] <= 1)\n",
    "    @constraint(model, [j in 2:maximum(weeks)], CarryForwardTransfers[j] >= 0)\n",
    "    @constraint(model, [j in 2:maximum(weeks)], CarryForwardTransfers[j] <= CarryForwardTransfers[j-1] + 1 - TTr[j])\n",
    "    \n",
    "    # wildcards\n",
    "    @constraint(model, sum(WC[j] for j in weeks) == wildcard_remaining)\n",
    "    @constraint(model, [j in 2:maximum(weeks)], WC[j] + WC[j-1] <= 1)\n",
    "    \n",
    "    # free hit\n",
    "    @constraint(model, sum(FH[j] for j in weeks) == freehit_remaining)\n",
    "    @constraint(model, FH[1] == 0)\n",
    "    @constraint(model, [j in 2:(maximum(weeks)-1), i in players], S[i, j+1] - S[i, j-1] <= 1 - FH[j])\n",
    "    @constraint(model, [j in weeks], FH[j] + WC[j] <= 1)\n",
    "    \n",
    "    # solve model\n",
    "    optimize!(model)\n",
    "    objective_value(model)\n",
    "\n",
    "    # create list of decision variables\n",
    "    decision_variables = Dict(\n",
    "        \"S\" => value.(S),\n",
    "        \"X\" => value.(X),\n",
    "        \"C\" => value.(C),\n",
    "        \"TC\" => value.(TC),\n",
    "        \"BB\" => value.(BB),\n",
    "        \"Tr\" => value.(Tr),\n",
    "        \"TTr\" => value.(TTr),\n",
    "        \"CarryForwardTransfers\" => value.(CarryForwardTransfers),\n",
    "        \"WC\" => value.(WC),\n",
    "        \"FH\" => value.(FH)\n",
    "    )\n",
    "\n",
    "    return decision_variables\n",
    "end;"
   ]
  },
  {
   "cell_type": "code",
   "execution_count": 18,
   "id": "b5b0f2b6-975c-461a-993b-a17a18ca9a36",
   "metadata": {},
   "outputs": [
    {
     "data": {
      "text/plain": [
       "15-element Vector{Int64}:\n",
       "  19\n",
       "  33\n",
       "  36\n",
       "  60\n",
       "  77\n",
       " 108\n",
       " 211\n",
       " 291\n",
       " 308\n",
       " 373\n",
       " 407\n",
       " 430\n",
       " 439\n",
       " 516\n",
       " 611"
      ]
     },
     "execution_count": 18,
     "metadata": {},
     "output_type": "execute_result"
    }
   ],
   "source": [
    "S = decision_variables[\"S\"]\n",
    "num_rows = size(S, 1)\n",
    "initial_squad = [i for i in 1:num_rows if value(S[i, 1]) == 1]"
   ]
  },
  {
   "cell_type": "code",
   "execution_count": 9,
   "id": "0113ea2b-6068-48c3-94c4-11c6930f05fd",
   "metadata": {},
   "outputs": [
    {
     "name": "stdout",
     "output_type": "stream",
     "text": [
      "Set parameter Username\n",
      "Academic license - for non-commercial use only - expires 2024-10-09\n",
      "Gurobi Optimizer version 10.0.3 build v10.0.3rc0 (win64)\n",
      "\n",
      "CPU model: 11th Gen Intel(R) Core(TM) i7-1185G7 @ 3.00GHz, instruction set [SSE2|AVX|AVX2|AVX512]\n",
      "Thread count: 4 physical cores, 8 logical processors, using up to 8 threads\n",
      "\n",
      "Optimize a model with 8638 rows, 10725 columns and 34226 nonzeros\n",
      "Model fingerprint: 0x7f2f0b0d\n",
      "Model has 3454 quadratic objective terms\n",
      "Variable types: 0 continuous, 10725 integer (10719 binary)\n",
      "Coefficient statistics:\n",
      "  Matrix range     [1e+00, 1e+01]\n",
      "  Objective range  [2e-05, 6e+00]\n",
      "  QObjective range [4e-05, 1e+01]\n",
      "  Bounds range     [0e+00, 0e+00]\n",
      "  RHS range        [1e+00, 1e+02]\n",
      "Presolve removed 14 rows and 724 columns\n",
      "Presolve time: 0.22s\n",
      "Presolved: 12074 rows, 13451 columns, 42859 nonzeros\n",
      "Variable types: 0 continuous, 13451 integer (13450 binary)\n",
      "Found heuristic solution: objective 56.9451700\n",
      "\n",
      "Root relaxation: objective 3.536549e+02, 7948 iterations, 2.17 seconds (1.08 work units)\n",
      "\n",
      "    Nodes    |    Current Node    |     Objective Bounds      |     Work\n",
      " Expl Unexpl |  Obj  Depth IntInf | Incumbent    BestBd   Gap | It/Node Time\n",
      "\n",
      "     0     0  353.65486    0 1839   56.94517  353.65486   521%     -    3s\n",
      "H    0     0                      60.5972000  353.65486   484%     -    3s\n",
      "H    0     0                      76.7912800  353.65486   361%     -    4s\n",
      "H    0     0                      83.6040100  353.65486   323%     -    4s\n",
      "H    0     0                     134.3921200  353.65486   163%     -    4s\n",
      "     0     0  305.25111    0 1870  134.39212  305.25111   127%     -    5s\n",
      "H    0     0                     164.3022200  305.25111  85.8%     -    6s\n",
      "H    0     0                     166.5628600  305.25111  83.3%     -    6s\n",
      "H    0     0                     199.6297800  305.25111  52.9%     -    7s\n",
      "H    0     0                     199.9067500  305.25111  52.7%     -    7s\n",
      "H    0     0                     200.5323200  305.25111  52.2%     -    7s\n",
      "\n",
      "Cutting planes:\n",
      "  Gomory: 3\n",
      "  MIR: 49\n",
      "  StrongCG: 6\n",
      "  Zero half: 168\n",
      "  RLT: 107\n",
      "\n",
      "Explored 1 nodes (9628 simplex iterations) in 7.70 seconds (2.53 work units)\n",
      "Thread count was 8 (of 8 available processors)\n",
      "\n",
      "Solution count 10: 200.532 199.907 199.63 ... 56.9452\n",
      "\n",
      "Optimal solution found (tolerance 1.00e-04)\n",
      "Best objective 2.005323200000e+02, best bound 2.005455641353e+02, gap 0.0066%\n",
      "\n",
      "User-callback calls 541, time in user-callback 0.00 sec\n"
     ]
    }
   ],
   "source": [
    "decision_variables = solve_fantasy_football_model(1:3, 2:3, 1, 1, 2, 1);"
   ]
  },
  {
   "cell_type": "markdown",
   "id": "5f757ef5-af13-44d4-bc37-500a48196c9a",
   "metadata": {},
   "source": [
    "# Evaluate Solution"
   ]
  },
  {
   "cell_type": "code",
   "execution_count": 29,
   "id": "4c625b39-90c3-46c4-9481-8d01083a599d",
   "metadata": {},
   "outputs": [
    {
     "data": {
      "text/html": [
       "<div><div style = \"float: left;\"><span>24×11 DataFrame</span></div><div style = \"clear: both;\"></div></div><div class = \"data-frame\" style = \"overflow-x: scroll;\"><table class = \"data-frame\" style = \"margin-bottom: 6px;\"><thead><tr class = \"header\"><th class = \"rowNumber\" style = \"font-weight: bold; text-align: right;\">Row</th><th style = \"text-align: left;\">x1</th><th style = \"text-align: left;\">x2</th><th style = \"text-align: left;\">x3</th><th style = \"text-align: left;\">x4</th><th style = \"text-align: left;\">x5</th><th style = \"text-align: left;\">x6</th><th style = \"text-align: left;\">x7</th><th style = \"text-align: left;\">x8</th><th style = \"text-align: left;\">x9</th><th style = \"text-align: left;\">x10</th><th style = \"text-align: left;\">x11</th></tr><tr class = \"subheader headerLastRow\"><th class = \"rowNumber\" style = \"font-weight: bold; text-align: right;\"></th><th title = \"Any\" style = \"text-align: left;\">Any</th><th title = \"Any\" style = \"text-align: left;\">Any</th><th title = \"Any\" style = \"text-align: left;\">Any</th><th title = \"Any\" style = \"text-align: left;\">Any</th><th title = \"Any\" style = \"text-align: left;\">Any</th><th title = \"Any\" style = \"text-align: left;\">Any</th><th title = \"Any\" style = \"text-align: left;\">Any</th><th title = \"Any\" style = \"text-align: left;\">Any</th><th title = \"Any\" style = \"text-align: left;\">Any</th><th title = \"Any\" style = \"text-align: left;\">Any</th><th title = \"Any\" style = \"text-align: left;\">Any</th></tr></thead><tbody><tr><td class = \"rowNumber\" style = \"font-weight: bold; text-align: right;\">1</td><td style = \"text-align: left;\">Saka</td><td style = \"text-align: left;\">1.0</td><td style = \"text-align: left;\">1.0</td><td style = \"text-align: left;\">1.0</td><td style = \"text-align: left;\">1.0</td><td style = \"text-align: left;\">1.0</td><td style = \"text-align: left;\">1.0</td><td style = \"text-align: left;\">1.0</td><td style = \"text-align: left;\">1.0</td><td style = \"text-align: left;\">1.0</td><td style = \"text-align: left;\">1.0</td></tr><tr><td class = \"rowNumber\" style = \"font-weight: bold; text-align: right;\">2</td><td style = \"text-align: left;\">Cash</td><td style = \"text-align: left;\">1.0</td><td style = \"text-align: left;\">1.0</td><td style = \"text-align: left;\">1.0</td><td style = \"text-align: left;\">1.0</td><td style = \"text-align: left;\">1.0</td><td style = \"text-align: left;\">-0.0</td><td style = \"text-align: left;\">-0.0</td><td style = \"text-align: left;\">-0.0</td><td style = \"text-align: left;\">-0.0</td><td style = \"text-align: left;\">0.0</td></tr><tr><td class = \"rowNumber\" style = \"font-weight: bold; text-align: right;\">3</td><td style = \"text-align: left;\">Martinez</td><td style = \"text-align: left;\">1.0</td><td style = \"text-align: left;\">1.0</td><td style = \"text-align: left;\">0.0</td><td style = \"text-align: left;\">0.0</td><td style = \"text-align: left;\">0.0</td><td style = \"text-align: left;\">0.0</td><td style = \"text-align: left;\">0.0</td><td style = \"text-align: left;\">0.0</td><td style = \"text-align: left;\">0.0</td><td style = \"text-align: left;\">-0.0</td></tr><tr><td class = \"rowNumber\" style = \"font-weight: bold; text-align: right;\">4</td><td style = \"text-align: left;\">Watkins</td><td style = \"text-align: left;\">0.0</td><td style = \"text-align: left;\">-0.0</td><td style = \"text-align: left;\">-0.0</td><td style = \"text-align: left;\">-0.0</td><td style = \"text-align: left;\">-0.0</td><td style = \"text-align: left;\">0.0</td><td style = \"text-align: left;\">-0.0</td><td style = \"text-align: left;\">1.0</td><td style = \"text-align: left;\">1.0</td><td style = \"text-align: left;\">1.0</td></tr><tr><td class = \"rowNumber\" style = \"font-weight: bold; text-align: right;\">5</td><td style = \"text-align: left;\">Mbeumo</td><td style = \"text-align: left;\">1.0</td><td style = \"text-align: left;\">1.0</td><td style = \"text-align: left;\">1.0</td><td style = \"text-align: left;\">1.0</td><td style = \"text-align: left;\">1.0</td><td style = \"text-align: left;\">1.0</td><td style = \"text-align: left;\">1.0</td><td style = \"text-align: left;\">1.0</td><td style = \"text-align: left;\">1.0</td><td style = \"text-align: left;\">1.0</td></tr><tr><td class = \"rowNumber\" style = \"font-weight: bold; text-align: right;\">6</td><td style = \"text-align: left;\">Pinnock</td><td style = \"text-align: left;\">-0.0</td><td style = \"text-align: left;\">-0.0</td><td style = \"text-align: left;\">-0.0</td><td style = \"text-align: left;\">-0.0</td><td style = \"text-align: left;\">-0.0</td><td style = \"text-align: left;\">1.0</td><td style = \"text-align: left;\">-0.0</td><td style = \"text-align: left;\">-0.0</td><td style = \"text-align: left;\">1.0</td><td style = \"text-align: left;\">-0.0</td></tr><tr><td class = \"rowNumber\" style = \"font-weight: bold; text-align: right;\">7</td><td style = \"text-align: left;\">Ferguson</td><td style = \"text-align: left;\">-0.0</td><td style = \"text-align: left;\">-0.0</td><td style = \"text-align: left;\">-0.0</td><td style = \"text-align: left;\">-0.0</td><td style = \"text-align: left;\">-0.0</td><td style = \"text-align: left;\">-0.0</td><td style = \"text-align: left;\">-0.0</td><td style = \"text-align: left;\">-0.0</td><td style = \"text-align: left;\">-0.0</td><td style = \"text-align: left;\">1.0</td></tr><tr><td class = \"rowNumber\" style = \"font-weight: bold; text-align: right;\">8</td><td style = \"text-align: left;\">Enzo</td><td style = \"text-align: left;\">1.0</td><td style = \"text-align: left;\">1.0</td><td style = \"text-align: left;\">0.0</td><td style = \"text-align: left;\">0.0</td><td style = \"text-align: left;\">0.0</td><td style = \"text-align: left;\">0.0</td><td style = \"text-align: left;\">-0.0</td><td style = \"text-align: left;\">-0.0</td><td style = \"text-align: left;\">-0.0</td><td style = \"text-align: left;\">-0.0</td></tr><tr><td class = \"rowNumber\" style = \"font-weight: bold; text-align: right;\">9</td><td style = \"text-align: left;\">N.Jackson</td><td style = \"text-align: left;\">1.0</td><td style = \"text-align: left;\">1.0</td><td style = \"text-align: left;\">1.0</td><td style = \"text-align: left;\">1.0</td><td style = \"text-align: left;\">1.0</td><td style = \"text-align: left;\">1.0</td><td style = \"text-align: left;\">-0.0</td><td style = \"text-align: left;\">1.0</td><td style = \"text-align: left;\">0.0</td><td style = \"text-align: left;\">0.0</td></tr><tr><td class = \"rowNumber\" style = \"font-weight: bold; text-align: right;\">10</td><td style = \"text-align: left;\">Guéhi</td><td style = \"text-align: left;\">-0.0</td><td style = \"text-align: left;\">-0.0</td><td style = \"text-align: left;\">-0.0</td><td style = \"text-align: left;\">-0.0</td><td style = \"text-align: left;\">-0.0</td><td style = \"text-align: left;\">-0.0</td><td style = \"text-align: left;\">-0.0</td><td style = \"text-align: left;\">1.0</td><td style = \"text-align: left;\">-0.0</td><td style = \"text-align: left;\">-0.0</td></tr><tr><td class = \"rowNumber\" style = \"font-weight: bold; text-align: right;\">11</td><td style = \"text-align: left;\">A.Doucoure</td><td style = \"text-align: left;\">-0.0</td><td style = \"text-align: left;\">0.0</td><td style = \"text-align: left;\">1.0</td><td style = \"text-align: left;\">1.0</td><td style = \"text-align: left;\">1.0</td><td style = \"text-align: left;\">1.0</td><td style = \"text-align: left;\">-0.0</td><td style = \"text-align: left;\">-0.0</td><td style = \"text-align: left;\">-0.0</td><td style = \"text-align: left;\">-0.0</td></tr><tr><td class = \"rowNumber\" style = \"font-weight: bold; text-align: right;\">12</td><td style = \"text-align: left;\">Alexander-Arnold</td><td style = \"text-align: left;\">-0.0</td><td style = \"text-align: left;\">0.0</td><td style = \"text-align: left;\">0.0</td><td style = \"text-align: left;\">0.0</td><td style = \"text-align: left;\">-0.0</td><td style = \"text-align: left;\">-0.0</td><td style = \"text-align: left;\">0.0</td><td style = \"text-align: left;\">0.0</td><td style = \"text-align: left;\">1.0</td><td style = \"text-align: left;\">1.0</td></tr><tr><td class = \"rowNumber\" style = \"font-weight: bold; text-align: right;\">13</td><td style = \"text-align: left;\">A.Becker</td><td style = \"text-align: left;\">0.0</td><td style = \"text-align: left;\">0.0</td><td style = \"text-align: left;\">0.0</td><td style = \"text-align: left;\">1.0</td><td style = \"text-align: left;\">-0.0</td><td style = \"text-align: left;\">0.0</td><td style = \"text-align: left;\">-0.0</td><td style = \"text-align: left;\">0.0</td><td style = \"text-align: left;\">0.0</td><td style = \"text-align: left;\">1.0</td></tr><tr><td class = \"rowNumber\" style = \"font-weight: bold; text-align: right;\">14</td><td style = \"text-align: left;\">Salah</td><td style = \"text-align: left;\">1.0</td><td style = \"text-align: left;\">1.0</td><td style = \"text-align: left;\">1.0</td><td style = \"text-align: left;\">1.0</td><td style = \"text-align: left;\">1.0</td><td style = \"text-align: left;\">1.0</td><td style = \"text-align: left;\">1.0</td><td style = \"text-align: left;\">1.0</td><td style = \"text-align: left;\">1.0</td><td style = \"text-align: left;\">1.0</td></tr><tr><td class = \"rowNumber\" style = \"font-weight: bold; text-align: right;\">15</td><td style = \"text-align: left;\">Morris</td><td style = \"text-align: left;\">-0.0</td><td style = \"text-align: left;\">-0.0</td><td style = \"text-align: left;\">-0.0</td><td style = \"text-align: left;\">-0.0</td><td style = \"text-align: left;\">-0.0</td><td style = \"text-align: left;\">-0.0</td><td style = \"text-align: left;\">1.0</td><td style = \"text-align: left;\">-0.0</td><td style = \"text-align: left;\">-0.0</td><td style = \"text-align: left;\">-0.0</td></tr><tr><td class = \"rowNumber\" style = \"font-weight: bold; text-align: right;\">16</td><td style = \"text-align: left;\">Haaland</td><td style = \"text-align: left;\">1.0</td><td style = \"text-align: left;\">1.0</td><td style = \"text-align: left;\">1.0</td><td style = \"text-align: left;\">1.0</td><td style = \"text-align: left;\">1.0</td><td style = \"text-align: left;\">1.0</td><td style = \"text-align: left;\">-0.0</td><td style = \"text-align: left;\">0.0</td><td style = \"text-align: left;\">0.0</td><td style = \"text-align: left;\">-0.0</td></tr><tr><td class = \"rowNumber\" style = \"font-weight: bold; text-align: right;\">17</td><td style = \"text-align: left;\">B.Fernandes</td><td style = \"text-align: left;\">1.0</td><td style = \"text-align: left;\">1.0</td><td style = \"text-align: left;\">1.0</td><td style = \"text-align: left;\">1.0</td><td style = \"text-align: left;\">1.0</td><td style = \"text-align: left;\">1.0</td><td style = \"text-align: left;\">1.0</td><td style = \"text-align: left;\">1.0</td><td style = \"text-align: left;\">1.0</td><td style = \"text-align: left;\">1.0</td></tr><tr><td class = \"rowNumber\" style = \"font-weight: bold; text-align: right;\">18</td><td style = \"text-align: left;\">Schär</td><td style = \"text-align: left;\">0.0</td><td style = \"text-align: left;\">0.0</td><td style = \"text-align: left;\">-0.0</td><td style = \"text-align: left;\">1.0</td><td style = \"text-align: left;\">1.0</td><td style = \"text-align: left;\">1.0</td><td style = \"text-align: left;\">1.0</td><td style = \"text-align: left;\">0.0</td><td style = \"text-align: left;\">1.0</td><td style = \"text-align: left;\">1.0</td></tr><tr><td class = \"rowNumber\" style = \"font-weight: bold; text-align: right;\">19</td><td style = \"text-align: left;\">Trippier</td><td style = \"text-align: left;\">1.0</td><td style = \"text-align: left;\">1.0</td><td style = \"text-align: left;\">1.0</td><td style = \"text-align: left;\">0.0</td><td style = \"text-align: left;\">0.0</td><td style = \"text-align: left;\">0.0</td><td style = \"text-align: left;\">1.0</td><td style = \"text-align: left;\">1.0</td><td style = \"text-align: left;\">1.0</td><td style = \"text-align: left;\">1.0</td></tr><tr><td class = \"rowNumber\" style = \"font-weight: bold; text-align: right;\">20</td><td style = \"text-align: left;\">Son</td><td style = \"text-align: left;\">0.0</td><td style = \"text-align: left;\">0.0</td><td style = \"text-align: left;\">-0.0</td><td style = \"text-align: left;\">-0.0</td><td style = \"text-align: left;\">-0.0</td><td style = \"text-align: left;\">-0.0</td><td style = \"text-align: left;\">1.0</td><td style = \"text-align: left;\">1.0</td><td style = \"text-align: left;\">1.0</td><td style = \"text-align: left;\">-0.0</td></tr><tr><td class = \"rowNumber\" style = \"font-weight: bold; text-align: right;\">21</td><td style = \"text-align: left;\">Bowen</td><td style = \"text-align: left;\">0.0</td><td style = \"text-align: left;\">0.0</td><td style = \"text-align: left;\">-0.0</td><td style = \"text-align: left;\">-0.0</td><td style = \"text-align: left;\">-0.0</td><td style = \"text-align: left;\">-0.0</td><td style = \"text-align: left;\">-0.0</td><td style = \"text-align: left;\">0.0</td><td style = \"text-align: left;\">0.0</td><td style = \"text-align: left;\">1.0</td></tr><tr><td class = \"rowNumber\" style = \"font-weight: bold; text-align: right;\">22</td><td style = \"text-align: left;\">Giles</td><td style = \"text-align: left;\">-0.0</td><td style = \"text-align: left;\">-0.0</td><td style = \"text-align: left;\">-0.0</td><td style = \"text-align: left;\">-0.0</td><td style = \"text-align: left;\">-0.0</td><td style = \"text-align: left;\">-0.0</td><td style = \"text-align: left;\">1.0</td><td style = \"text-align: left;\">-0.0</td><td style = \"text-align: left;\">-0.0</td><td style = \"text-align: left;\">-0.0</td></tr><tr><td class = \"rowNumber\" style = \"font-weight: bold; text-align: right;\">23</td><td style = \"text-align: left;\">Trafford</td><td style = \"text-align: left;\">-0.0</td><td style = \"text-align: left;\">0.0</td><td style = \"text-align: left;\">1.0</td><td style = \"text-align: left;\">-0.0</td><td style = \"text-align: left;\">1.0</td><td style = \"text-align: left;\">1.0</td><td style = \"text-align: left;\">1.0</td><td style = \"text-align: left;\">1.0</td><td style = \"text-align: left;\">1.0</td><td style = \"text-align: left;\">-0.0</td></tr><tr><td class = \"rowNumber\" style = \"font-weight: bold; text-align: right;\">24</td><td style = \"text-align: left;\">Disasi</td><td style = \"text-align: left;\">1.0</td><td style = \"text-align: left;\">1.0</td><td style = \"text-align: left;\">1.0</td><td style = \"text-align: left;\">1.0</td><td style = \"text-align: left;\">1.0</td><td style = \"text-align: left;\">1.0</td><td style = \"text-align: left;\">1.0</td><td style = \"text-align: left;\">1.0</td><td style = \"text-align: left;\">0.0</td><td style = \"text-align: left;\">-0.0</td></tr></tbody></table></div>"
      ],
      "text/latex": [
       "\\begin{tabular}{r|ccccccccccc}\n",
       "\t& x1 & x2 & x3 & x4 & x5 & x6 & x7 & x8 & x9 & x10 & x11\\\\\n",
       "\t\\hline\n",
       "\t& Any & Any & Any & Any & Any & Any & Any & Any & Any & Any & Any\\\\\n",
       "\t\\hline\n",
       "\t1 & Saka & 1.0 & 1.0 & 1.0 & 1.0 & 1.0 & 1.0 & 1.0 & 1.0 & 1.0 & 1.0 \\\\\n",
       "\t2 & Cash & 1.0 & 1.0 & 1.0 & 1.0 & 1.0 & -0.0 & -0.0 & -0.0 & -0.0 & 0.0 \\\\\n",
       "\t3 & Martinez & 1.0 & 1.0 & 0.0 & 0.0 & 0.0 & 0.0 & 0.0 & 0.0 & 0.0 & -0.0 \\\\\n",
       "\t4 & Watkins & 0.0 & -0.0 & -0.0 & -0.0 & -0.0 & 0.0 & -0.0 & 1.0 & 1.0 & 1.0 \\\\\n",
       "\t5 & Mbeumo & 1.0 & 1.0 & 1.0 & 1.0 & 1.0 & 1.0 & 1.0 & 1.0 & 1.0 & 1.0 \\\\\n",
       "\t6 & Pinnock & -0.0 & -0.0 & -0.0 & -0.0 & -0.0 & 1.0 & -0.0 & -0.0 & 1.0 & -0.0 \\\\\n",
       "\t7 & Ferguson & -0.0 & -0.0 & -0.0 & -0.0 & -0.0 & -0.0 & -0.0 & -0.0 & -0.0 & 1.0 \\\\\n",
       "\t8 & Enzo & 1.0 & 1.0 & 0.0 & 0.0 & 0.0 & 0.0 & -0.0 & -0.0 & -0.0 & -0.0 \\\\\n",
       "\t9 & N.Jackson & 1.0 & 1.0 & 1.0 & 1.0 & 1.0 & 1.0 & -0.0 & 1.0 & 0.0 & 0.0 \\\\\n",
       "\t10 & Guéhi & -0.0 & -0.0 & -0.0 & -0.0 & -0.0 & -0.0 & -0.0 & 1.0 & -0.0 & -0.0 \\\\\n",
       "\t11 & A.Doucoure & -0.0 & 0.0 & 1.0 & 1.0 & 1.0 & 1.0 & -0.0 & -0.0 & -0.0 & -0.0 \\\\\n",
       "\t12 & Alexander-Arnold & -0.0 & 0.0 & 0.0 & 0.0 & -0.0 & -0.0 & 0.0 & 0.0 & 1.0 & 1.0 \\\\\n",
       "\t13 & A.Becker & 0.0 & 0.0 & 0.0 & 1.0 & -0.0 & 0.0 & -0.0 & 0.0 & 0.0 & 1.0 \\\\\n",
       "\t14 & Salah & 1.0 & 1.0 & 1.0 & 1.0 & 1.0 & 1.0 & 1.0 & 1.0 & 1.0 & 1.0 \\\\\n",
       "\t15 & Morris & -0.0 & -0.0 & -0.0 & -0.0 & -0.0 & -0.0 & 1.0 & -0.0 & -0.0 & -0.0 \\\\\n",
       "\t16 & Haaland & 1.0 & 1.0 & 1.0 & 1.0 & 1.0 & 1.0 & -0.0 & 0.0 & 0.0 & -0.0 \\\\\n",
       "\t17 & B.Fernandes & 1.0 & 1.0 & 1.0 & 1.0 & 1.0 & 1.0 & 1.0 & 1.0 & 1.0 & 1.0 \\\\\n",
       "\t18 & Schär & 0.0 & 0.0 & -0.0 & 1.0 & 1.0 & 1.0 & 1.0 & 0.0 & 1.0 & 1.0 \\\\\n",
       "\t19 & Trippier & 1.0 & 1.0 & 1.0 & 0.0 & 0.0 & 0.0 & 1.0 & 1.0 & 1.0 & 1.0 \\\\\n",
       "\t20 & Son & 0.0 & 0.0 & -0.0 & -0.0 & -0.0 & -0.0 & 1.0 & 1.0 & 1.0 & -0.0 \\\\\n",
       "\t21 & Bowen & 0.0 & 0.0 & -0.0 & -0.0 & -0.0 & -0.0 & -0.0 & 0.0 & 0.0 & 1.0 \\\\\n",
       "\t22 & Giles & -0.0 & -0.0 & -0.0 & -0.0 & -0.0 & -0.0 & 1.0 & -0.0 & -0.0 & -0.0 \\\\\n",
       "\t23 & Trafford & -0.0 & 0.0 & 1.0 & -0.0 & 1.0 & 1.0 & 1.0 & 1.0 & 1.0 & -0.0 \\\\\n",
       "\t24 & Disasi & 1.0 & 1.0 & 1.0 & 1.0 & 1.0 & 1.0 & 1.0 & 1.0 & 0.0 & -0.0 \\\\\n",
       "\\end{tabular}\n"
      ],
      "text/plain": [
       "\u001b[1m24×11 DataFrame\u001b[0m\n",
       "\u001b[1m Row \u001b[0m│\u001b[1m x1               \u001b[0m\u001b[1m x2   \u001b[0m\u001b[1m x3   \u001b[0m\u001b[1m x4   \u001b[0m\u001b[1m x5   \u001b[0m\u001b[1m x6   \u001b[0m\u001b[1m x7   \u001b[0m\u001b[1m x8   \u001b[0m\u001b[1m x9   \u001b[0m\u001b[1m x10  \u001b[0m\u001b[1m\u001b[0m ⋯\n",
       "     │\u001b[90m Any              \u001b[0m\u001b[90m Any  \u001b[0m\u001b[90m Any  \u001b[0m\u001b[90m Any  \u001b[0m\u001b[90m Any  \u001b[0m\u001b[90m Any  \u001b[0m\u001b[90m Any  \u001b[0m\u001b[90m Any  \u001b[0m\u001b[90m Any  \u001b[0m\u001b[90m Any  \u001b[0m\u001b[90m\u001b[0m ⋯\n",
       "─────┼──────────────────────────────────────────────────────────────────────────\n",
       "   1 │ Saka              1.0   1.0   1.0   1.0   1.0   1.0   1.0   1.0   1.0   ⋯\n",
       "   2 │ Cash              1.0   1.0   1.0   1.0   1.0   -0.0  -0.0  -0.0  -0.0\n",
       "   3 │ Martinez          1.0   1.0   0.0   0.0   0.0   0.0   0.0   0.0   0.0\n",
       "   4 │ Watkins           0.0   -0.0  -0.0  -0.0  -0.0  0.0   -0.0  1.0   1.0\n",
       "   5 │ Mbeumo            1.0   1.0   1.0   1.0   1.0   1.0   1.0   1.0   1.0   ⋯\n",
       "   6 │ Pinnock           -0.0  -0.0  -0.0  -0.0  -0.0  1.0   -0.0  -0.0  1.0\n",
       "   7 │ Ferguson          -0.0  -0.0  -0.0  -0.0  -0.0  -0.0  -0.0  -0.0  -0.0\n",
       "   8 │ Enzo              1.0   1.0   0.0   0.0   0.0   0.0   -0.0  -0.0  -0.0\n",
       "   9 │ N.Jackson         1.0   1.0   1.0   1.0   1.0   1.0   -0.0  1.0   0.0   ⋯\n",
       "  10 │ Guéhi             -0.0  -0.0  -0.0  -0.0  -0.0  -0.0  -0.0  1.0   -0.0\n",
       "  11 │ A.Doucoure        -0.0  0.0   1.0   1.0   1.0   1.0   -0.0  -0.0  -0.0\n",
       "  ⋮  │        ⋮           ⋮     ⋮     ⋮     ⋮     ⋮     ⋮     ⋮     ⋮     ⋮    ⋱\n",
       "  15 │ Morris            -0.0  -0.0  -0.0  -0.0  -0.0  -0.0  1.0   -0.0  -0.0\n",
       "  16 │ Haaland           1.0   1.0   1.0   1.0   1.0   1.0   -0.0  0.0   0.0   ⋯\n",
       "  17 │ B.Fernandes       1.0   1.0   1.0   1.0   1.0   1.0   1.0   1.0   1.0\n",
       "  18 │ Schär             0.0   0.0   -0.0  1.0   1.0   1.0   1.0   0.0   1.0\n",
       "  19 │ Trippier          1.0   1.0   1.0   0.0   0.0   0.0   1.0   1.0   1.0\n",
       "  20 │ Son               0.0   0.0   -0.0  -0.0  -0.0  -0.0  1.0   1.0   1.0   ⋯\n",
       "  21 │ Bowen             0.0   0.0   -0.0  -0.0  -0.0  -0.0  -0.0  0.0   0.0\n",
       "  22 │ Giles             -0.0  -0.0  -0.0  -0.0  -0.0  -0.0  1.0   -0.0  -0.0\n",
       "  23 │ Trafford          -0.0  0.0   1.0   -0.0  1.0   1.0   1.0   1.0   1.0\n",
       "  24 │ Disasi            1.0   1.0   1.0   1.0   1.0   1.0   1.0   1.0   0.0   ⋯\n",
       "\u001b[36m                                                     1 column and 3 rows omitted\u001b[0m"
      ]
     },
     "execution_count": 29,
     "metadata": {},
     "output_type": "execute_result"
    }
   ],
   "source": [
    "function is_nonzero_row(row)\n",
    "    return sum(row[2:end]) != 0\n",
    "end\n",
    "\n",
    "# identify optimal team\n",
    "optimal_team = hcat(points.Name[players], JuMP.value.(X))\n",
    "optimal_team = filter(row -> is_nonzero_row(row), DataFrame(optimal_team, :auto))"
   ]
  },
  {
   "cell_type": "code",
   "execution_count": 30,
   "id": "f1c9341b-29ad-4a0f-a3e6-c81542423e1e",
   "metadata": {},
   "outputs": [
    {
     "data": {
      "text/html": [
       "<div><div style = \"float: left;\"><span>31×11 DataFrame</span></div><div style = \"float: right;\"><span style = \"font-style: italic;\">6 rows omitted</span></div><div style = \"clear: both;\"></div></div><div class = \"data-frame\" style = \"overflow-x: scroll;\"><table class = \"data-frame\" style = \"margin-bottom: 6px;\"><thead><tr class = \"header\"><th class = \"rowNumber\" style = \"font-weight: bold; text-align: right;\">Row</th><th style = \"text-align: left;\">x1</th><th style = \"text-align: left;\">x2</th><th style = \"text-align: left;\">x3</th><th style = \"text-align: left;\">x4</th><th style = \"text-align: left;\">x5</th><th style = \"text-align: left;\">x6</th><th style = \"text-align: left;\">x7</th><th style = \"text-align: left;\">x8</th><th style = \"text-align: left;\">x9</th><th style = \"text-align: left;\">x10</th><th style = \"text-align: left;\">x11</th></tr><tr class = \"subheader headerLastRow\"><th class = \"rowNumber\" style = \"font-weight: bold; text-align: right;\"></th><th title = \"Any\" style = \"text-align: left;\">Any</th><th title = \"Any\" style = \"text-align: left;\">Any</th><th title = \"Any\" style = \"text-align: left;\">Any</th><th title = \"Any\" style = \"text-align: left;\">Any</th><th title = \"Any\" style = \"text-align: left;\">Any</th><th title = \"Any\" style = \"text-align: left;\">Any</th><th title = \"Any\" style = \"text-align: left;\">Any</th><th title = \"Any\" style = \"text-align: left;\">Any</th><th title = \"Any\" style = \"text-align: left;\">Any</th><th title = \"Any\" style = \"text-align: left;\">Any</th><th title = \"Any\" style = \"text-align: left;\">Any</th></tr></thead><tbody><tr><td class = \"rowNumber\" style = \"font-weight: bold; text-align: right;\">1</td><td style = \"text-align: left;\">Saka</td><td style = \"text-align: left;\">1.0</td><td style = \"text-align: left;\">1.0</td><td style = \"text-align: left;\">1.0</td><td style = \"text-align: left;\">1.0</td><td style = \"text-align: left;\">1.0</td><td style = \"text-align: left;\">1.0</td><td style = \"text-align: left;\">1.0</td><td style = \"text-align: left;\">1.0</td><td style = \"text-align: left;\">1.0</td><td style = \"text-align: left;\">1.0</td></tr><tr><td class = \"rowNumber\" style = \"font-weight: bold; text-align: right;\">2</td><td style = \"text-align: left;\">Turner</td><td style = \"text-align: left;\">1.0</td><td style = \"text-align: left;\">1.0</td><td style = \"text-align: left;\">1.0</td><td style = \"text-align: left;\">0.0</td><td style = \"text-align: left;\">0.0</td><td style = \"text-align: left;\">0.0</td><td style = \"text-align: left;\">-0.0</td><td style = \"text-align: left;\">0.0</td><td style = \"text-align: left;\">-0.0</td><td style = \"text-align: left;\">0.0</td></tr><tr><td class = \"rowNumber\" style = \"font-weight: bold; text-align: right;\">3</td><td style = \"text-align: left;\">Archer</td><td style = \"text-align: left;\">1.0</td><td style = \"text-align: left;\">1.0</td><td style = \"text-align: left;\">1.0</td><td style = \"text-align: left;\">1.0</td><td style = \"text-align: left;\">0.0</td><td style = \"text-align: left;\">-0.0</td><td style = \"text-align: left;\">-0.0</td><td style = \"text-align: left;\">-0.0</td><td style = \"text-align: left;\">-0.0</td><td style = \"text-align: left;\">0.0</td></tr><tr><td class = \"rowNumber\" style = \"font-weight: bold; text-align: right;\">4</td><td style = \"text-align: left;\">Cash</td><td style = \"text-align: left;\">1.0</td><td style = \"text-align: left;\">1.0</td><td style = \"text-align: left;\">1.0</td><td style = \"text-align: left;\">1.0</td><td style = \"text-align: left;\">1.0</td><td style = \"text-align: left;\">-0.0</td><td style = \"text-align: left;\">-0.0</td><td style = \"text-align: left;\">0.0</td><td style = \"text-align: left;\">-0.0</td><td style = \"text-align: left;\">-0.0</td></tr><tr><td class = \"rowNumber\" style = \"font-weight: bold; text-align: right;\">5</td><td style = \"text-align: left;\">Martinez</td><td style = \"text-align: left;\">1.0</td><td style = \"text-align: left;\">1.0</td><td style = \"text-align: left;\">0.0</td><td style = \"text-align: left;\">-0.0</td><td style = \"text-align: left;\">0.0</td><td style = \"text-align: left;\">0.0</td><td style = \"text-align: left;\">0.0</td><td style = \"text-align: left;\">0.0</td><td style = \"text-align: left;\">-0.0</td><td style = \"text-align: left;\">-0.0</td></tr><tr><td class = \"rowNumber\" style = \"font-weight: bold; text-align: right;\">6</td><td style = \"text-align: left;\">Watkins</td><td style = \"text-align: left;\">0.0</td><td style = \"text-align: left;\">-0.0</td><td style = \"text-align: left;\">-0.0</td><td style = \"text-align: left;\">-0.0</td><td style = \"text-align: left;\">-0.0</td><td style = \"text-align: left;\">0.0</td><td style = \"text-align: left;\">0.0</td><td style = \"text-align: left;\">1.0</td><td style = \"text-align: left;\">1.0</td><td style = \"text-align: left;\">1.0</td></tr><tr><td class = \"rowNumber\" style = \"font-weight: bold; text-align: right;\">7</td><td style = \"text-align: left;\">Mbeumo</td><td style = \"text-align: left;\">1.0</td><td style = \"text-align: left;\">1.0</td><td style = \"text-align: left;\">1.0</td><td style = \"text-align: left;\">1.0</td><td style = \"text-align: left;\">1.0</td><td style = \"text-align: left;\">1.0</td><td style = \"text-align: left;\">1.0</td><td style = \"text-align: left;\">1.0</td><td style = \"text-align: left;\">1.0</td><td style = \"text-align: left;\">1.0</td></tr><tr><td class = \"rowNumber\" style = \"font-weight: bold; text-align: right;\">8</td><td style = \"text-align: left;\">Pinnock</td><td style = \"text-align: left;\">-0.0</td><td style = \"text-align: left;\">-0.0</td><td style = \"text-align: left;\">0.0</td><td style = \"text-align: left;\">0.0</td><td style = \"text-align: left;\">0.0</td><td style = \"text-align: left;\">1.0</td><td style = \"text-align: left;\">0.0</td><td style = \"text-align: left;\">0.0</td><td style = \"text-align: left;\">1.0</td><td style = \"text-align: left;\">1.0</td></tr><tr><td class = \"rowNumber\" style = \"font-weight: bold; text-align: right;\">9</td><td style = \"text-align: left;\">Ferguson</td><td style = \"text-align: left;\">-0.0</td><td style = \"text-align: left;\">-0.0</td><td style = \"text-align: left;\">-0.0</td><td style = \"text-align: left;\">-0.0</td><td style = \"text-align: left;\">-0.0</td><td style = \"text-align: left;\">-0.0</td><td style = \"text-align: left;\">-0.0</td><td style = \"text-align: left;\">-0.0</td><td style = \"text-align: left;\">-0.0</td><td style = \"text-align: left;\">1.0</td></tr><tr><td class = \"rowNumber\" style = \"font-weight: bold; text-align: right;\">10</td><td style = \"text-align: left;\">Enzo</td><td style = \"text-align: left;\">1.0</td><td style = \"text-align: left;\">1.0</td><td style = \"text-align: left;\">0.0</td><td style = \"text-align: left;\">-0.0</td><td style = \"text-align: left;\">0.0</td><td style = \"text-align: left;\">0.0</td><td style = \"text-align: left;\">-0.0</td><td style = \"text-align: left;\">-0.0</td><td style = \"text-align: left;\">-0.0</td><td style = \"text-align: left;\">-0.0</td></tr><tr><td class = \"rowNumber\" style = \"font-weight: bold; text-align: right;\">11</td><td style = \"text-align: left;\">N.Jackson</td><td style = \"text-align: left;\">1.0</td><td style = \"text-align: left;\">1.0</td><td style = \"text-align: left;\">1.0</td><td style = \"text-align: left;\">1.0</td><td style = \"text-align: left;\">1.0</td><td style = \"text-align: left;\">1.0</td><td style = \"text-align: left;\">1.0</td><td style = \"text-align: left;\">1.0</td><td style = \"text-align: left;\">-0.0</td><td style = \"text-align: left;\">0.0</td></tr><tr><td class = \"rowNumber\" style = \"font-weight: bold; text-align: right;\">12</td><td style = \"text-align: left;\">Guéhi</td><td style = \"text-align: left;\">-0.0</td><td style = \"text-align: left;\">-0.0</td><td style = \"text-align: left;\">-0.0</td><td style = \"text-align: left;\">0.0</td><td style = \"text-align: left;\">0.0</td><td style = \"text-align: left;\">0.0</td><td style = \"text-align: left;\">-0.0</td><td style = \"text-align: left;\">1.0</td><td style = \"text-align: left;\">0.0</td><td style = \"text-align: left;\">-0.0</td></tr><tr><td class = \"rowNumber\" style = \"font-weight: bold; text-align: right;\">13</td><td style = \"text-align: left;\">A.Doucoure</td><td style = \"text-align: left;\">-0.0</td><td style = \"text-align: left;\">0.0</td><td style = \"text-align: left;\">1.0</td><td style = \"text-align: left;\">1.0</td><td style = \"text-align: left;\">1.0</td><td style = \"text-align: left;\">1.0</td><td style = \"text-align: left;\">-0.0</td><td style = \"text-align: left;\">0.0</td><td style = \"text-align: left;\">-0.0</td><td style = \"text-align: left;\">-0.0</td></tr><tr><td style = \"text-align: right;\">&vellip;</td><td style = \"text-align: right;\">&vellip;</td><td style = \"text-align: right;\">&vellip;</td><td style = \"text-align: right;\">&vellip;</td><td style = \"text-align: right;\">&vellip;</td><td style = \"text-align: right;\">&vellip;</td><td style = \"text-align: right;\">&vellip;</td><td style = \"text-align: right;\">&vellip;</td><td style = \"text-align: right;\">&vellip;</td><td style = \"text-align: right;\">&vellip;</td><td style = \"text-align: right;\">&vellip;</td><td style = \"text-align: right;\">&vellip;</td></tr><tr><td class = \"rowNumber\" style = \"font-weight: bold; text-align: right;\">20</td><td style = \"text-align: left;\">Morris</td><td style = \"text-align: left;\">0.0</td><td style = \"text-align: left;\">-0.0</td><td style = \"text-align: left;\">-0.0</td><td style = \"text-align: left;\">-0.0</td><td style = \"text-align: left;\">-0.0</td><td style = \"text-align: left;\">0.0</td><td style = \"text-align: left;\">1.0</td><td style = \"text-align: left;\">0.0</td><td style = \"text-align: left;\">-0.0</td><td style = \"text-align: left;\">-0.0</td></tr><tr><td class = \"rowNumber\" style = \"font-weight: bold; text-align: right;\">21</td><td style = \"text-align: left;\">Taylor</td><td style = \"text-align: left;\">-0.0</td><td style = \"text-align: left;\">-0.0</td><td style = \"text-align: left;\">-0.0</td><td style = \"text-align: left;\">-0.0</td><td style = \"text-align: left;\">-0.0</td><td style = \"text-align: left;\">-0.0</td><td style = \"text-align: left;\">-0.0</td><td style = \"text-align: left;\">-0.0</td><td style = \"text-align: left;\">1.0</td><td style = \"text-align: left;\">1.0</td></tr><tr><td class = \"rowNumber\" style = \"font-weight: bold; text-align: right;\">22</td><td style = \"text-align: left;\">Haaland</td><td style = \"text-align: left;\">1.0</td><td style = \"text-align: left;\">1.0</td><td style = \"text-align: left;\">1.0</td><td style = \"text-align: left;\">1.0</td><td style = \"text-align: left;\">1.0</td><td style = \"text-align: left;\">1.0</td><td style = \"text-align: left;\">-0.0</td><td style = \"text-align: left;\">0.0</td><td style = \"text-align: left;\">-0.0</td><td style = \"text-align: left;\">-0.0</td></tr><tr><td class = \"rowNumber\" style = \"font-weight: bold; text-align: right;\">23</td><td style = \"text-align: left;\">B.Fernandes</td><td style = \"text-align: left;\">1.0</td><td style = \"text-align: left;\">1.0</td><td style = \"text-align: left;\">1.0</td><td style = \"text-align: left;\">1.0</td><td style = \"text-align: left;\">1.0</td><td style = \"text-align: left;\">1.0</td><td style = \"text-align: left;\">1.0</td><td style = \"text-align: left;\">1.0</td><td style = \"text-align: left;\">1.0</td><td style = \"text-align: left;\">1.0</td></tr><tr><td class = \"rowNumber\" style = \"font-weight: bold; text-align: right;\">24</td><td style = \"text-align: left;\">Schär</td><td style = \"text-align: left;\">0.0</td><td style = \"text-align: left;\">-0.0</td><td style = \"text-align: left;\">0.0</td><td style = \"text-align: left;\">1.0</td><td style = \"text-align: left;\">1.0</td><td style = \"text-align: left;\">1.0</td><td style = \"text-align: left;\">1.0</td><td style = \"text-align: left;\">1.0</td><td style = \"text-align: left;\">1.0</td><td style = \"text-align: left;\">1.0</td></tr><tr><td class = \"rowNumber\" style = \"font-weight: bold; text-align: right;\">25</td><td style = \"text-align: left;\">Trippier</td><td style = \"text-align: left;\">1.0</td><td style = \"text-align: left;\">1.0</td><td style = \"text-align: left;\">1.0</td><td style = \"text-align: left;\">-0.0</td><td style = \"text-align: left;\">0.0</td><td style = \"text-align: left;\">-0.0</td><td style = \"text-align: left;\">1.0</td><td style = \"text-align: left;\">1.0</td><td style = \"text-align: left;\">1.0</td><td style = \"text-align: left;\">1.0</td></tr><tr><td class = \"rowNumber\" style = \"font-weight: bold; text-align: right;\">26</td><td style = \"text-align: left;\">Son</td><td style = \"text-align: left;\">-0.0</td><td style = \"text-align: left;\">-0.0</td><td style = \"text-align: left;\">0.0</td><td style = \"text-align: left;\">-0.0</td><td style = \"text-align: left;\">-0.0</td><td style = \"text-align: left;\">-0.0</td><td style = \"text-align: left;\">1.0</td><td style = \"text-align: left;\">1.0</td><td style = \"text-align: left;\">1.0</td><td style = \"text-align: left;\">-0.0</td></tr><tr><td class = \"rowNumber\" style = \"font-weight: bold; text-align: right;\">27</td><td style = \"text-align: left;\">Bowen</td><td style = \"text-align: left;\">0.0</td><td style = \"text-align: left;\">-0.0</td><td style = \"text-align: left;\">0.0</td><td style = \"text-align: left;\">-0.0</td><td style = \"text-align: left;\">-0.0</td><td style = \"text-align: left;\">-0.0</td><td style = \"text-align: left;\">-0.0</td><td style = \"text-align: left;\">0.0</td><td style = \"text-align: left;\">0.0</td><td style = \"text-align: left;\">1.0</td></tr><tr><td class = \"rowNumber\" style = \"font-weight: bold; text-align: right;\">28</td><td style = \"text-align: left;\">Giles</td><td style = \"text-align: left;\">-0.0</td><td style = \"text-align: left;\">-0.0</td><td style = \"text-align: left;\">0.0</td><td style = \"text-align: left;\">0.0</td><td style = \"text-align: left;\">0.0</td><td style = \"text-align: left;\">1.0</td><td style = \"text-align: left;\">1.0</td><td style = \"text-align: left;\">0.0</td><td style = \"text-align: left;\">0.0</td><td style = \"text-align: left;\">0.0</td></tr><tr><td class = \"rowNumber\" style = \"font-weight: bold; text-align: right;\">29</td><td style = \"text-align: left;\">Trafford</td><td style = \"text-align: left;\">-0.0</td><td style = \"text-align: left;\">-0.0</td><td style = \"text-align: left;\">1.0</td><td style = \"text-align: left;\">1.0</td><td style = \"text-align: left;\">1.0</td><td style = \"text-align: left;\">1.0</td><td style = \"text-align: left;\">1.0</td><td style = \"text-align: left;\">1.0</td><td style = \"text-align: left;\">1.0</td><td style = \"text-align: left;\">1.0</td></tr><tr><td class = \"rowNumber\" style = \"font-weight: bold; text-align: right;\">30</td><td style = \"text-align: left;\">Disasi</td><td style = \"text-align: left;\">1.0</td><td style = \"text-align: left;\">1.0</td><td style = \"text-align: left;\">1.0</td><td style = \"text-align: left;\">1.0</td><td style = \"text-align: left;\">1.0</td><td style = \"text-align: left;\">1.0</td><td style = \"text-align: left;\">1.0</td><td style = \"text-align: left;\">1.0</td><td style = \"text-align: left;\">0.0</td><td style = \"text-align: left;\">0.0</td></tr><tr><td class = \"rowNumber\" style = \"font-weight: bold; text-align: right;\">31</td><td style = \"text-align: left;\">Kaminski</td><td style = \"text-align: left;\">-0.0</td><td style = \"text-align: left;\">-0.0</td><td style = \"text-align: left;\">0.0</td><td style = \"text-align: left;\">0.0</td><td style = \"text-align: left;\">1.0</td><td style = \"text-align: left;\">1.0</td><td style = \"text-align: left;\">1.0</td><td style = \"text-align: left;\">1.0</td><td style = \"text-align: left;\">1.0</td><td style = \"text-align: left;\">-0.0</td></tr></tbody></table></div>"
      ],
      "text/latex": [
       "\\begin{tabular}{r|ccccccccccc}\n",
       "\t& x1 & x2 & x3 & x4 & x5 & x6 & x7 & x8 & x9 & x10 & x11\\\\\n",
       "\t\\hline\n",
       "\t& Any & Any & Any & Any & Any & Any & Any & Any & Any & Any & Any\\\\\n",
       "\t\\hline\n",
       "\t1 & Saka & 1.0 & 1.0 & 1.0 & 1.0 & 1.0 & 1.0 & 1.0 & 1.0 & 1.0 & 1.0 \\\\\n",
       "\t2 & Turner & 1.0 & 1.0 & 1.0 & 0.0 & 0.0 & 0.0 & -0.0 & 0.0 & -0.0 & 0.0 \\\\\n",
       "\t3 & Archer & 1.0 & 1.0 & 1.0 & 1.0 & 0.0 & -0.0 & -0.0 & -0.0 & -0.0 & 0.0 \\\\\n",
       "\t4 & Cash & 1.0 & 1.0 & 1.0 & 1.0 & 1.0 & -0.0 & -0.0 & 0.0 & -0.0 & -0.0 \\\\\n",
       "\t5 & Martinez & 1.0 & 1.0 & 0.0 & -0.0 & 0.0 & 0.0 & 0.0 & 0.0 & -0.0 & -0.0 \\\\\n",
       "\t6 & Watkins & 0.0 & -0.0 & -0.0 & -0.0 & -0.0 & 0.0 & 0.0 & 1.0 & 1.0 & 1.0 \\\\\n",
       "\t7 & Mbeumo & 1.0 & 1.0 & 1.0 & 1.0 & 1.0 & 1.0 & 1.0 & 1.0 & 1.0 & 1.0 \\\\\n",
       "\t8 & Pinnock & -0.0 & -0.0 & 0.0 & 0.0 & 0.0 & 1.0 & 0.0 & 0.0 & 1.0 & 1.0 \\\\\n",
       "\t9 & Ferguson & -0.0 & -0.0 & -0.0 & -0.0 & -0.0 & -0.0 & -0.0 & -0.0 & -0.0 & 1.0 \\\\\n",
       "\t10 & Enzo & 1.0 & 1.0 & 0.0 & -0.0 & 0.0 & 0.0 & -0.0 & -0.0 & -0.0 & -0.0 \\\\\n",
       "\t11 & N.Jackson & 1.0 & 1.0 & 1.0 & 1.0 & 1.0 & 1.0 & 1.0 & 1.0 & -0.0 & 0.0 \\\\\n",
       "\t12 & Guéhi & -0.0 & -0.0 & -0.0 & 0.0 & 0.0 & 0.0 & -0.0 & 1.0 & 0.0 & -0.0 \\\\\n",
       "\t13 & A.Doucoure & -0.0 & 0.0 & 1.0 & 1.0 & 1.0 & 1.0 & -0.0 & 0.0 & -0.0 & -0.0 \\\\\n",
       "\t14 & Alexander-Arnold & -0.0 & -0.0 & -0.0 & -0.0 & -0.0 & -0.0 & 0.0 & 0.0 & 1.0 & 1.0 \\\\\n",
       "\t15 & A.Becker & 0.0 & 0.0 & 0.0 & 1.0 & 0.0 & -0.0 & 0.0 & -0.0 & -0.0 & 1.0 \\\\\n",
       "\t16 & Salah & 1.0 & 1.0 & 1.0 & 1.0 & 1.0 & 1.0 & 1.0 & 1.0 & 1.0 & 1.0 \\\\\n",
       "\t17 & Adebayo & -0.0 & -0.0 & 0.0 & -0.0 & 1.0 & 1.0 & 1.0 & 1.0 & 1.0 & 0.0 \\\\\n",
       "\t18 & Bell & 1.0 & 1.0 & 1.0 & 1.0 & 1.0 & 1.0 & 1.0 & 1.0 & 1.0 & 1.0 \\\\\n",
       "\t19 & Burke & 1.0 & 1.0 & 1.0 & 1.0 & 1.0 & 0.0 & 0.0 & 0.0 & 0.0 & 0.0 \\\\\n",
       "\t20 & Morris & 0.0 & -0.0 & -0.0 & -0.0 & -0.0 & 0.0 & 1.0 & 0.0 & -0.0 & -0.0 \\\\\n",
       "\t21 & Taylor & -0.0 & -0.0 & -0.0 & -0.0 & -0.0 & -0.0 & -0.0 & -0.0 & 1.0 & 1.0 \\\\\n",
       "\t22 & Haaland & 1.0 & 1.0 & 1.0 & 1.0 & 1.0 & 1.0 & -0.0 & 0.0 & -0.0 & -0.0 \\\\\n",
       "\t23 & B.Fernandes & 1.0 & 1.0 & 1.0 & 1.0 & 1.0 & 1.0 & 1.0 & 1.0 & 1.0 & 1.0 \\\\\n",
       "\t24 & Schär & 0.0 & -0.0 & 0.0 & 1.0 & 1.0 & 1.0 & 1.0 & 1.0 & 1.0 & 1.0 \\\\\n",
       "\t25 & Trippier & 1.0 & 1.0 & 1.0 & -0.0 & 0.0 & -0.0 & 1.0 & 1.0 & 1.0 & 1.0 \\\\\n",
       "\t26 & Son & -0.0 & -0.0 & 0.0 & -0.0 & -0.0 & -0.0 & 1.0 & 1.0 & 1.0 & -0.0 \\\\\n",
       "\t27 & Bowen & 0.0 & -0.0 & 0.0 & -0.0 & -0.0 & -0.0 & -0.0 & 0.0 & 0.0 & 1.0 \\\\\n",
       "\t28 & Giles & -0.0 & -0.0 & 0.0 & 0.0 & 0.0 & 1.0 & 1.0 & 0.0 & 0.0 & 0.0 \\\\\n",
       "\t29 & Trafford & -0.0 & -0.0 & 1.0 & 1.0 & 1.0 & 1.0 & 1.0 & 1.0 & 1.0 & 1.0 \\\\\n",
       "\t30 & Disasi & 1.0 & 1.0 & 1.0 & 1.0 & 1.0 & 1.0 & 1.0 & 1.0 & 0.0 & 0.0 \\\\\n",
       "\t$\\dots$ & $\\dots$ & $\\dots$ & $\\dots$ & $\\dots$ & $\\dots$ & $\\dots$ & $\\dots$ & $\\dots$ & $\\dots$ & $\\dots$ & $\\dots$ \\\\\n",
       "\\end{tabular}\n"
      ],
      "text/plain": [
       "\u001b[1m31×11 DataFrame\u001b[0m\n",
       "\u001b[1m Row \u001b[0m│\u001b[1m x1               \u001b[0m\u001b[1m x2   \u001b[0m\u001b[1m x3   \u001b[0m\u001b[1m x4   \u001b[0m\u001b[1m x5   \u001b[0m\u001b[1m x6   \u001b[0m\u001b[1m x7   \u001b[0m\u001b[1m x8   \u001b[0m\u001b[1m x9   \u001b[0m\u001b[1m x10  \u001b[0m\u001b[1m\u001b[0m ⋯\n",
       "     │\u001b[90m Any              \u001b[0m\u001b[90m Any  \u001b[0m\u001b[90m Any  \u001b[0m\u001b[90m Any  \u001b[0m\u001b[90m Any  \u001b[0m\u001b[90m Any  \u001b[0m\u001b[90m Any  \u001b[0m\u001b[90m Any  \u001b[0m\u001b[90m Any  \u001b[0m\u001b[90m Any  \u001b[0m\u001b[90m\u001b[0m ⋯\n",
       "─────┼──────────────────────────────────────────────────────────────────────────\n",
       "   1 │ Saka              1.0   1.0   1.0   1.0   1.0   1.0   1.0   1.0   1.0   ⋯\n",
       "   2 │ Turner            1.0   1.0   1.0   0.0   0.0   0.0   -0.0  0.0   -0.0\n",
       "   3 │ Archer            1.0   1.0   1.0   1.0   0.0   -0.0  -0.0  -0.0  -0.0\n",
       "   4 │ Cash              1.0   1.0   1.0   1.0   1.0   -0.0  -0.0  0.0   -0.0\n",
       "   5 │ Martinez          1.0   1.0   0.0   -0.0  0.0   0.0   0.0   0.0   -0.0  ⋯\n",
       "   6 │ Watkins           0.0   -0.0  -0.0  -0.0  -0.0  0.0   0.0   1.0   1.0\n",
       "   7 │ Mbeumo            1.0   1.0   1.0   1.0   1.0   1.0   1.0   1.0   1.0\n",
       "   8 │ Pinnock           -0.0  -0.0  0.0   0.0   0.0   1.0   0.0   0.0   1.0\n",
       "   9 │ Ferguson          -0.0  -0.0  -0.0  -0.0  -0.0  -0.0  -0.0  -0.0  -0.0  ⋯\n",
       "  10 │ Enzo              1.0   1.0   0.0   -0.0  0.0   0.0   -0.0  -0.0  -0.0\n",
       "  11 │ N.Jackson         1.0   1.0   1.0   1.0   1.0   1.0   1.0   1.0   -0.0\n",
       "  ⋮  │        ⋮           ⋮     ⋮     ⋮     ⋮     ⋮     ⋮     ⋮     ⋮     ⋮    ⋱\n",
       "  22 │ Haaland           1.0   1.0   1.0   1.0   1.0   1.0   -0.0  0.0   -0.0\n",
       "  23 │ B.Fernandes       1.0   1.0   1.0   1.0   1.0   1.0   1.0   1.0   1.0   ⋯\n",
       "  24 │ Schär             0.0   -0.0  0.0   1.0   1.0   1.0   1.0   1.0   1.0\n",
       "  25 │ Trippier          1.0   1.0   1.0   -0.0  0.0   -0.0  1.0   1.0   1.0\n",
       "  26 │ Son               -0.0  -0.0  0.0   -0.0  -0.0  -0.0  1.0   1.0   1.0\n",
       "  27 │ Bowen             0.0   -0.0  0.0   -0.0  -0.0  -0.0  -0.0  0.0   0.0   ⋯\n",
       "  28 │ Giles             -0.0  -0.0  0.0   0.0   0.0   1.0   1.0   0.0   0.0\n",
       "  29 │ Trafford          -0.0  -0.0  1.0   1.0   1.0   1.0   1.0   1.0   1.0\n",
       "  30 │ Disasi            1.0   1.0   1.0   1.0   1.0   1.0   1.0   1.0   0.0\n",
       "  31 │ Kaminski          -0.0  -0.0  0.0   0.0   1.0   1.0   1.0   1.0   1.0   ⋯\n",
       "\u001b[36m                                                    1 column and 10 rows omitted\u001b[0m"
      ]
     },
     "execution_count": 30,
     "metadata": {},
     "output_type": "execute_result"
    }
   ],
   "source": [
    "# identify optimal squad\n",
    "optimal_squad = hcat(points.Name[players], JuMP.value.(S))\n",
    "optimal_squad = filter(row -> is_nonzero_row(row), DataFrame(optimal_squad, :auto))"
   ]
  },
  {
   "cell_type": "code",
   "execution_count": 27,
   "id": "d5ded4d4-0792-4baa-b24d-bc8792081e8f",
   "metadata": {},
   "outputs": [
    {
     "data": {
      "text/plain": [
       "1-dimensional DenseAxisArray{Float64,1,...} with index sets:\n",
       "    Dimension 1, 1:10\n",
       "And data, a 10-element Vector{Float64}:\n",
       " -0.0\n",
       " -0.0\n",
       "  0.0\n",
       " -0.0\n",
       " -0.0\n",
       " -0.0\n",
       "  1.0\n",
       "  1.0\n",
       " -0.0\n",
       " -0.0"
      ]
     },
     "execution_count": 27,
     "metadata": {},
     "output_type": "execute_result"
    }
   ],
   "source": [
    "JuMP.value.(WC)"
   ]
  },
  {
   "cell_type": "code",
   "execution_count": 31,
   "id": "453bb161-d818-4b45-b7a7-22e410162498",
   "metadata": {},
   "outputs": [
    {
     "data": {
      "text/plain": [
       "1-dimensional DenseAxisArray{Float64,1,...} with index sets:\n",
       "    Dimension 1, 1:10\n",
       "And data, a 10-element Vector{Float64}:\n",
       " -0.0\n",
       " -0.0\n",
       "  0.0\n",
       " -0.0\n",
       "  0.0\n",
       "  0.0\n",
       "  2.0\n",
       "  0.0\n",
       "  1.0\n",
       "  1.0"
      ]
     },
     "execution_count": 31,
     "metadata": {},
     "output_type": "execute_result"
    }
   ],
   "source": [
    "JuMP.value.(TTr)"
   ]
  },
  {
   "cell_type": "code",
   "execution_count": null,
   "id": "ee431c13-89f8-4eb3-aff1-e507b2051a7b",
   "metadata": {},
   "outputs": [],
   "source": []
  }
 ],
 "metadata": {
  "kernelspec": {
   "display_name": "Julia 1.9.3",
   "language": "julia",
   "name": "julia-1.9"
  },
  "language_info": {
   "file_extension": ".jl",
   "mimetype": "application/julia",
   "name": "julia",
   "version": "1.9.3"
  }
 },
 "nbformat": 4,
 "nbformat_minor": 5
}
